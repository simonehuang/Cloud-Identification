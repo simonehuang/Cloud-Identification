{
  "cells": [
    {
      "cell_type": "markdown",
      "source": [
        "# Libraries"
      ],
      "metadata": {
        "id": "fX463I09vA7N"
      }
    },
    {
      "cell_type": "code",
      "execution_count": null,
      "metadata": {
        "id": "JlaKxGcQVd-p"
      },
      "outputs": [],
      "source": [
        "import matplotlib.pyplot as plt\n",
        "import os\n",
        "from PIL import Image\n",
        "import PIL\n",
        "import numpy as np\n",
        "import time\n",
        "import pandas as pd\n",
        "from sklearn.cluster import KMeans\n",
        "from sklearn import preprocessing\n",
        "import seaborn as sns"
      ]
    },
    {
      "cell_type": "code",
      "execution_count": null,
      "metadata": {
        "colab": {
          "base_uri": "https://localhost:8080/"
        },
        "id": "MRLyVZk-enrQ",
        "outputId": "abd35334-baa0-44e0-c3c2-d1dd817058ed"
      },
      "outputs": [
        {
          "output_type": "stream",
          "name": "stdout",
          "text": [
            "Mounted at /content/drive\n"
          ]
        }
      ],
      "source": [
        "from google.colab import drive\n",
        "drive.mount('/content/drive')"
      ]
    },
    {
      "cell_type": "markdown",
      "metadata": {
        "id": "_OQnFs0UWCjP"
      },
      "source": [
        "# Functions"
      ]
    },
    {
      "cell_type": "markdown",
      "source": [
        "## Resize image"
      ],
      "metadata": {
        "id": "boqs5UU_qeGB"
      }
    },
    {
      "cell_type": "code",
      "execution_count": null,
      "metadata": {
        "id": "3H5kdzNckYtj"
      },
      "outputs": [],
      "source": [
        "def resize_image(dir_image, dir_output, compare):\n",
        "  os.chdir(dir_image)\n",
        "  size = 360, 771 # This size varies depending on your selected area\n",
        "\n",
        "\n",
        "  valid_images = [\".jpg\",\".gif\",\".png\",\".tga\"]\n",
        "  for file in os.listdir():\n",
        "    ext = os.path.splitext(file)[1]\n",
        "    name = os.path.splitext(file)[0]\n",
        "    band = name.split(\"_\")[0]\n",
        "    if ext.lower() not in valid_images:\n",
        "      continue\n",
        "    if (band != compare):\n",
        "      continue\n",
        "    img = Image.open(file, \"r\")\n",
        "    img.thumbnail(size, Image.ANTIALIAS)\n",
        "    img.save(dir_output)\n"
      ]
    },
    {
      "cell_type": "markdown",
      "source": [
        "## Get data"
      ],
      "metadata": {
        "id": "jE6M5em3sKD7"
      }
    },
    {
      "cell_type": "code",
      "execution_count": null,
      "metadata": {
        "id": "B4moe2MgWEHi"
      },
      "outputs": [],
      "source": [
        "def get_data(dir_image, dir_output, tipo):\n",
        "  valid_images = [\".jpg\",\".gif\",\".png\",\".tga\"]\n",
        "  channel = 1\n",
        "\n",
        "  os.chdir(dir_image)  # Change the directory\n",
        "\n",
        "  for file in os.listdir():\n",
        "    ext = os.path.splitext(file)[1]\n",
        "    if ext.lower() not in valid_images:\n",
        "      continue\n",
        "    if tipo == \"cloud\":\n",
        "      compare = f'band0{channel}'\n",
        "      dir_output_cloud = f'{dir_output}/GOES-16_Ch{channel}_cloud.png'\n",
        "      resize_image(dir_image, dir_output_cloud, compare)\n",
        "    elif tipo == \"vegetation\":\n",
        "      compare = f'band0{channel}'\n",
        "      dir_output_veg = f'{dir_output}/GOES-16_Ch{channel}_vegetation.png'\n",
        "      resize_image(dir_image, dir_output_veg, compare)\n",
        "    elif tipo == \"water\":\n",
        "      compare = f'band0{channel}'\n",
        "      dir_output_water = f'{dir_output}/GOES-16_Ch{channel}_water.png'\n",
        "      resize_image(dir_image, dir_output_water, compare)\n",
        "    elif tipo == \"goias\":\n",
        "      compare = f'band0{channel}'\n",
        "      dir_output_goias = f'{dir_output}/GOES-16_Ch{channel}_goias.png'\n",
        "      resize_image(dir_image, dir_output_goias, compare)\n",
        "    else:\n",
        "      compare = f'band0{channel}'\n",
        "      dir_output_random = f'{dir_output}/GOES-16_Ch{channel}_random.png'\n",
        "      resize_image(dir_image, dir_output_random, compare)\n",
        "    compare = f'band0{channel}'\n",
        "    dir_output_aux = f'{dir_output}/GOES-16_Ch{channel}_{tipo}.png'\n",
        "    resize_image(dir_image, dir_output_aux, compare)\n",
        "    channel += 1\n",
        "\n",
        "  all_pixels = []\n",
        "  channel = 0\n",
        "  os.chdir(dir_output)  # Change the directory\n",
        "\n",
        "  for channel in range (7):\n",
        "    for file in os.listdir():\n",
        "      if file != f'GOES-16_Ch{channel}_{tipo}.png':\n",
        "        continue\n",
        "      print(file)\n",
        "      image = Image.open(file, \"r\")\n",
        "      pix_val = list(image.getdata())\n",
        "      pix_vals = [round(sets[0] / 255, 3) for sets in pix_val]\n",
        "      all_pixels.append(pix_vals)\n",
        "\n",
        "  return all_pixels\n",
        "\n",
        "  return all_pixels\n"
      ]
    },
    {
      "cell_type": "markdown",
      "metadata": {
        "id": "azKXTtFCVua3"
      },
      "source": [
        "#Plotting surface spectral reflectance and creating datasets"
      ]
    },
    {
      "cell_type": "code",
      "source": [
        "central_wavelength = [0, 0.47, 0.64, 0.86, 1.37, 1.6, 2.2] # 0 + channel 1 ~ 6, 0 for readjust\n",
        "\n",
        "dir_images = 'images_path'  # In this directory, there are folders for each surface\n",
        "dir_datasets = 'datasets_path'\n",
        "final_df = pd.DataFrame()\n",
        "\n",
        "for dir in os.listdir(dir_images):\n",
        "  aux = 0\n",
        "  dir_image = os.path.join(dir_images, dir, 'original')\n",
        "  dir_resized = os.path.join(dir_images, dir, 'resized')\n",
        "  datas = get_data(dir_image, dir_resized, dir)\n",
        "\n",
        "  # Creating dataset\n",
        "  df = pd.DataFrame(datas).T\n",
        "  df.columns = ['1', '2', '3', '4', '5', '6']\n",
        "  df.to_csv(f'{dir_datasets}/{dir}.csv')\n",
        "  # Appending all datasets\n",
        "  df['label'] = np.zeros(df.shape[0])+aux  # labeling all surfaces\n",
        "  final_df = pd.concat([final_df, df], axis=0)\n",
        "\n",
        "  # Plotting surface spectral reflectance\n",
        "  fig, ax = plt.subplots()\n",
        "  plt.title(f\"{dir} Spectral Reflectance\")\n",
        "  pixel = np.zeros(6)\n",
        "  for i in range(len(datas[0])): # pixels\n",
        "    for j in range(len(datas)): # channels\n",
        "      pixel[j] = datas[j][i] * 100\n",
        "    ax.plot(pixel)\n",
        "\n",
        "  ax.set_xticklabels(central_wavelength)\n",
        "  plt.xlabel(\"wavelength [$\\mu$m]\")\n",
        "  plt.ylabel(\"Reflectance %\")\n",
        "  plt.ylim([0,100])\n",
        "  plt.savefig(f'{dir_images}/{dir}.png')\n",
        "  plt.show()\n",
        "  plt.close()\n",
        "\n",
        "final_df.to_csv(f'{dir_datasets}/final_dataframe.csv')"
      ],
      "metadata": {
        "id": "jKynuIlsxJWU"
      },
      "execution_count": null,
      "outputs": []
    },
    {
      "cell_type": "markdown",
      "source": [
        "# Clustering"
      ],
      "metadata": {
        "id": "jgC1lYEe2hzz"
      }
    },
    {
      "cell_type": "code",
      "source": [
        "from sklearn.svm import SVC\n",
        "from sklearn.model_selection import train_test_split\n",
        "from sklearn.neighbors import KNeighborsClassifier"
      ],
      "metadata": {
        "id": "GdrEJXdo36Un"
      },
      "execution_count": null,
      "outputs": []
    },
    {
      "cell_type": "markdown",
      "source": [
        "## Datas"
      ],
      "metadata": {
        "id": "U6mpIMF72wiB"
      }
    },
    {
      "cell_type": "code",
      "source": [
        "labeled_dataset = pd.read_csv(f'{dir_datasets}/final_dataframe.csv')\n",
        "random_area_dataset = pd.read_csv('random_area_csv_path')"
      ],
      "metadata": {
        "id": "hVb95W0m2t-h"
      },
      "execution_count": null,
      "outputs": []
    },
    {
      "cell_type": "markdown",
      "source": [
        "## SVM"
      ],
      "metadata": {
        "id": "j7jMpO563JS1"
      }
    },
    {
      "cell_type": "code",
      "source": [
        "target = labeled_dataset[\"label\"]\n",
        "features = labeled_dataset.drop([\"Unnamed: 0\",\"label\"], axis=1)\n",
        "X_train, X_test, y_train, y_test = train_test_split(features, target, test_size = 0.2, random_state = 10)\n",
        "\n",
        "# Building a Support Vector Machine on train data\n",
        "svc_model = SVC(C= .1, kernel='linear', gamma= 1)\n",
        "svc_model.fit(X_train, y_train)\n",
        "\n",
        "prediction = svc_model.predict(X_test)\n",
        "# check the accuracy on the training set\n",
        "print(svc_model.score(X_train, y_train))\n",
        "print(svc_model.score(X_test, y_test))"
      ],
      "metadata": {
        "id": "EKFEN7Sb3KR-"
      },
      "execution_count": null,
      "outputs": []
    },
    {
      "cell_type": "code",
      "source": [
        "pred = svc_model.predict(random_area_dataset.drop([\"Unnamed: 0\"], axis=1))\n",
        "print(pred)"
      ],
      "metadata": {
        "id": "DqzgWjCk3XQ3"
      },
      "execution_count": null,
      "outputs": []
    },
    {
      "cell_type": "code",
      "source": [
        "image_size = (769, 360)  # Your random area image size\n",
        "\n",
        "pred_image = np.reshape(pred, image_size)\n",
        "plt.imshow(pred_image)"
      ],
      "metadata": {
        "id": "VDmgMNv03dJ7"
      },
      "execution_count": null,
      "outputs": []
    },
    {
      "cell_type": "markdown",
      "source": [
        "## KNN"
      ],
      "metadata": {
        "id": "nfY3Sl4w3y63"
      }
    },
    {
      "cell_type": "code",
      "source": [
        "target = labeled_dataset[\"label\"]\n",
        "features = labeled_dataset.drop([\"Unnamed: 0\",\"label\"], axis=1)\n",
        "X_train, X_test, y_train, y_test = train_test_split(features, target, test_size = 0.2, random_state = 10)"
      ],
      "metadata": {
        "id": "D1K2uoY24INO"
      },
      "execution_count": null,
      "outputs": []
    },
    {
      "cell_type": "code",
      "source": [
        "classifier = KNeighborsClassifier(n_neighbors=5)\n",
        "classifier.fit(X_train, y_train)\n",
        "y_pred = classifier.predict(X_test)"
      ],
      "metadata": {
        "id": "i36Esj0m4KLl"
      },
      "execution_count": null,
      "outputs": []
    },
    {
      "cell_type": "code",
      "source": [
        "pred = classifier.predict(random_area_dataset.drop([\"Unnamed: 0\"], axis=1))"
      ],
      "metadata": {
        "id": "ea8oAgZ-4S_f"
      },
      "execution_count": null,
      "outputs": []
    },
    {
      "cell_type": "code",
      "source": [
        "image_size = (769, 360)  # Your random area image size\n",
        "\n",
        "pred_image = np.reshape(pred, image_size)\n",
        "plt.axis('off')\n",
        "plt.imshow(pred_image)"
      ],
      "metadata": {
        "id": "neRFZ-ul4XHe"
      },
      "execution_count": null,
      "outputs": []
    }
  ],
  "metadata": {
    "colab": {
      "provenance": [],
      "toc_visible": true
    },
    "kernelspec": {
      "display_name": "Python 3",
      "name": "python3"
    },
    "language_info": {
      "name": "python"
    }
  },
  "nbformat": 4,
  "nbformat_minor": 0
}